{
 "cells": [
  {
   "cell_type": "markdown",
   "id": "d5607dfb-54a3-4bbc-abf2-6a9e98190b1a",
   "metadata": {},
   "source": [
    "# **Exercises I:**"
   ]
  },
  {
   "cell_type": "markdown",
   "id": "5e314900-6bb1-4443-8a79-8debe8b83e6c",
   "metadata": {},
   "source": [
    "# Let's review the steps we take at the beginning of each new module.\n",
    "    ✅\n",
    "# Create a new repository named regression-exercises in your GitHub; all of your Regression work will be housed here.\n",
    "    ✅\n",
    "# Clone this repository within your local codeup-data-science directory.\n",
    "    ✅\n",
    "# Create a .gitignore and make sure your list of 'files to ignore' includes your env.py file.\n",
    "    ✅\n",
    "# Create a README.md file that outlines the contents and purpose of your repository.\n",
    "    ✅\n",
    "# Add, commit, and push these two files.\n",
    "    ✅\n",
    "# Now you can add your env.py file to this repository to access the Codeup database server.\n",
    "    ✅\n",
    "# For these exercises, you will create wrangle.ipynb and wrangle.py files to hold necessary functions.\n",
    "    ✅\n",
    "# As always, add, commit, and push your work often.\n",
    "    - Always"
   ]
  },
  {
   "cell_type": "markdown",
   "id": "d886ead0-86fb-4aa6-960b-c864ddd8148c",
   "metadata": {},
   "source": [
    "# **Exercises II:**\n",
    "\n",
    "# Let's set up an example scenario as perspective for our regression exercises using the Zillow dataset.\n",
    "\n",
    "# As a Codeup data science graduate, you want to show off your skills to the Zillow data science team in hopes of getting an interview for a position you saw pop up on LinkedIn. You thought it might look impressive to build an end-to-end project in which you use some of their Kaggle data to predict property values using some of their available features; who knows, you might even do some feature engineering to blow them away. Your goal is to predict the values of single unit properties using the obervations from 2017.\n",
    "\n",
    "# In these exercises, you will complete the first step toward the above goal: acquire and prepare the necessary Zillow data from the zillow database in the Codeup database server.\n",
    "\n",
    "# Acquire bedroomcnt, bathroomcnt, calculatedfinishedsquarefeet, taxvaluedollarcnt, yearbuilt, taxamount, and fips from the zillow database for all 'Single Family Residential' properties.\n",
    "# Using your acquired Zillow data, walk through the summarization and cleaning steps in your wrangle.ipynb file like we did above. You may handle the missing values however you feel is appropriate and meaningful; remember to document your process and decisions using markdown and code commenting where helpful.\n",
    "# Store all of the necessary functions to automate your process from acquiring the data to returning a cleaned dataframe with no missing values in your wrangle.py file. Name your final function wrangle_zillow."
   ]
  }
 ],
 "metadata": {
  "kernelspec": {
   "display_name": "Python 3 (ipykernel)",
   "language": "python",
   "name": "python3"
  },
  "language_info": {
   "codemirror_mode": {
    "name": "ipython",
    "version": 3
   },
   "file_extension": ".py",
   "mimetype": "text/x-python",
   "name": "python",
   "nbconvert_exporter": "python",
   "pygments_lexer": "ipython3",
   "version": "3.9.13"
  }
 },
 "nbformat": 4,
 "nbformat_minor": 5
}
