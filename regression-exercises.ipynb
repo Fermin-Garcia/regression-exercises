{
 "cells": [
  {
   "cell_type": "markdown",
   "id": "d5607dfb-54a3-4bbc-abf2-6a9e98190b1a",
   "metadata": {},
   "source": [
    "# **Exercises I:**"
   ]
  },
  {
   "cell_type": "markdown",
   "id": "5e314900-6bb1-4443-8a79-8debe8b83e6c",
   "metadata": {},
   "source": [
    "# Let's review the steps we take at the beginning of each new module.\n",
    "\n",
    "# Create a new repository named regression-exercises in your GitHub; all of your Regression work will be housed here.\n",
    "\n",
    "# Clone this repository within your local codeup-data-science directory.\n",
    "\n",
    "# Create a .gitignore and make sure your list of 'files to ignore' includes your env.py file.\n",
    "\n",
    "# Create a README.md file that outlines the contents and purpose of your repository.\n",
    "\n",
    "# Add, commit, and push these two files.\n",
    "\n",
    "# Now you can add your env.py file to this repository to access the Codeup database server.\n",
    "\n",
    "# For these exercises, you will create wrangle.ipynb and wrangle.py files to hold necessary functions.\n",
    "\n",
    "# As always, add, commit, and push your work often."
   ]
  }
 ],
 "metadata": {
  "kernelspec": {
   "display_name": "Python 3 (ipykernel)",
   "language": "python",
   "name": "python3"
  },
  "language_info": {
   "codemirror_mode": {
    "name": "ipython",
    "version": 3
   },
   "file_extension": ".py",
   "mimetype": "text/x-python",
   "name": "python",
   "nbconvert_exporter": "python",
   "pygments_lexer": "ipython3",
   "version": "3.9.13"
  }
 },
 "nbformat": 4,
 "nbformat_minor": 5
}
